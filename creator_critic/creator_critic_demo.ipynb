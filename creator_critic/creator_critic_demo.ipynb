{
 "cells": [
  {
   "cell_type": "markdown",
   "id": "73751775-394f-48b9-9197-915f83b8baee",
   "metadata": {},
   "source": [
    "## graph"
   ]
  },
  {
   "cell_type": "code",
   "execution_count": 6,
   "id": "e071519a-eb37-4af1-839f-ba2626fde7c9",
   "metadata": {},
   "outputs": [
    {
     "name": "stdout",
     "output_type": "stream",
     "text": [
      "The autoreload extension is already loaded. To reload it, use:\n",
      "  %reload_ext autoreload\n",
      "env: LANGCHAIN_TRACING_V2=true\n"
     ]
    }
   ],
   "source": [
    "from dotenv import load_dotenv\n",
    "from langchain.cache import SQLiteCache\n",
    "from langchain.globals import set_llm_cache\n",
    "\n",
    "%load_ext autoreload\n",
    "%autoreload 2\n",
    "from reflection_langgraph import build_graph, get_last_solution, print_critic_sol, init_state\n",
    "\n",
    "set_llm_cache(SQLiteCache(database_path=\"./langchain_cache.db\"))\n",
    "load_dotenv('openai.env')  \n",
    "%set_env LANGCHAIN_TRACING_V2=true"
   ]
  },
  {
   "cell_type": "code",
   "execution_count": 4,
   "id": "bc57aa98-d4e8-42ac-92c4-d83e55b66b83",
   "metadata": {},
   "outputs": [],
   "source": [
    "graph = build_graph()"
   ]
  },
  {
   "cell_type": "code",
   "execution_count": 5,
   "id": "0f68d366-f67c-4018-9005-b84f2520f129",
   "metadata": {},
   "outputs": [
    {
     "name": "stdout",
     "output_type": "stream",
     "text": [
      "          +-----------+         \n",
      "          | __start__ |         \n",
      "          +-----------+         \n",
      "                 *              \n",
      "                 *              \n",
      "                 *              \n",
      "           +----------+         \n",
      "           | generate |         \n",
      "           +----------+         \n",
      "          ***         **        \n",
      "         *              **      \n",
      "       **                 **    \n",
      "+---------+                 *   \n",
      "| reflect |               **    \n",
      "+---------+             **      \n",
      "          ***         **        \n",
      "             *      **          \n",
      "              **   *            \n",
      "   +-------------------------+  \n",
      "   | reflect_should_continue |  \n",
      "   +-------------------------+  \n",
      "                 *              \n",
      "                 *              \n",
      "                 *              \n",
      "           +---------+          \n",
      "           | __end__ |          \n",
      "           +---------+          \n"
     ]
    }
   ],
   "source": [
    "# %pip install grandalf\n",
    "_g = graph.get_graph()\n",
    "_g.print_ascii()"
   ]
  },
  {
   "cell_type": "code",
   "execution_count": 7,
   "id": "d5bc4367-b161-4325-8f15-8e4bdc6cf290",
   "metadata": {},
   "outputs": [
    {
     "data": {
      "text/plain": [
       "{'messages': [],\n",
       " 'init_params': {'role': 'python and sql developer',\n",
       "  'problem': 'You have already build a pet-project on github to showcase your skills and be added to your portfolio. Main idea of the project: make use of basketball statistics to generate tweets.',\n",
       "  'result': 'write detailed and easy-to-understand markdown readme.md file for described project.'},\n",
       " 'flow_params': {'iterations_done': 0, 'max_iterations': 2},\n",
       " 'solutions': []}"
      ]
     },
     "execution_count": 7,
     "metadata": {},
     "output_type": "execute_result"
    }
   ],
   "source": [
    "initial_state = init_state(\n",
    "    role=\"python and sql developer\",\n",
    "    problem=\"You have already build a pet-project on github to showcase your skills and be added to your portfolio. Main idea of the project: make use of basketball statistics to generate tweets.\",\n",
    "    required_result=\"write detailed and easy-to-understand markdown readme.md file for described project.\",\n",
    "    max_iterations=2,\n",
    ")\n",
    "initial_state"
   ]
  },
  {
   "cell_type": "code",
   "execution_count": 8,
   "id": "35b9b80c-ee40-499f-915c-ab5a67782eee",
   "metadata": {},
   "outputs": [
    {
     "name": "stdout",
     "output_type": "stream",
     "text": [
      "Critic:\n",
      "The proposed solution is a significant improvement over the previous one, as it provides a more comprehensive and well-structured README.md file. However, there are a few areas where the solution can be further enhanced:\n",
      "\n",
      "1. The architecture section could be expanded to provide more details on the specific responsibilities and interactions between the different components, as well as any design patterns or principles used in the implementation.\n",
      "2. The solution could benefit from including information about the data processing pipeline, such as the types of insights and trends that are extracted from the basketball statistics, and how the tweet generation process works.\n",
      "3. The solution could also include information about the testing strategy, such as the types of tests (unit, integration, end-to-end) that are used, and how the test suite is organized and maintained to ensure the application's reliability.\n",
      "\n",
      "Overall, the proposed solution is a well-structured and informative README.md file that provides a solid foundation for the Basketball Tweet Generator project. With a few additional improvements, it can become an even more comprehensive and valuable resource for potential contributors and users.\n",
      "-------------------------------------\n",
      "Improved Result:\n",
      "# Basketball Tweet Generator\n",
      "\n",
      "## Overview\n",
      "The Basketball Tweet Generator is a Python-based application that automatically generates and posts tweets about basketball statistics and insights. By leveraging data from various basketball APIs, the application processes the information, identifies interesting trends and facts, and creates engaging tweets to share with basketball fans on social media.\n",
      "\n",
      "The primary goals of this project are to:\n",
      "1. Provide a scalable and maintainable solution for generating and publishing basketball-related content on Twitter.\n",
      "2. Demonstrate the developer's skills in data processing, tweet generation, and social media automation.\n",
      "3. Contribute to the basketball community by sharing relevant and insightful information in an accessible format.\n",
      "\n",
      "## Key Features\n",
      "- **Data Retrieval**: The application can fetch basketball statistics from multiple data sources, such as the NBA API, ESPN API, or other reputable providers.\n",
      "- **Data Processing**: The retrieved data is processed using a modular and extensible pipeline, which includes the following steps:\n",
      "  - **Cleaning and Normalization**: Ensuring the data is in a consistent format and handling any missing or erroneous values.\n",
      "  - **Trend and Insight Extraction**: Analyzing the data to identify interesting patterns, records, and storylines that can be turned into tweet-worthy content.\n",
      "  - **Template-based Tweet Generation**: Using customizable tweet templates, the application generates concise and engaging tweets based on the processed data.\n",
      "- **Automated Posting**: The generated tweets are automatically posted to a configured Twitter account, allowing for regular and consistent content updates.\n",
      "- **Error Handling and Logging**: The application includes robust error handling mechanisms and comprehensive logging to ensure reliability and facilitate troubleshooting.\n",
      "- **Extensibility**: The modular design of the application allows for easy integration of new data sources, tweet generation strategies, and other features as the project evolves.\n",
      "\n",
      "## Getting Started\n",
      "\n",
      "### Prerequisites\n",
      "- Python 3.x\n",
      "- Twitter API credentials (consumer key, consumer secret, access token, access token secret)\n",
      "- Basketball statistics API credentials (if required)\n",
      "\n",
      "### Installation\n",
      "1. Clone the repository:\n",
      "   ```\n",
      "   git clone https://github.com/your-username/basketball-tweet-generator.git\n",
      "   ```\n",
      "2. Navigate to the project directory:\n",
      "   ```\n",
      "   cd basketball-tweet-generator\n",
      "   ```\n",
      "3. Install the required dependencies:\n",
      "   ```\n",
      "   pip install -r requirements.txt\n",
      "   ```\n",
      "\n",
      "### Configuration\n",
      "1. Create a `.env` file in the project directory and add your Twitter API credentials:\n",
      "   ```\n",
      "   TWITTER_CONSUMER_KEY=your_twitter_consumer_key\n",
      "   TWITTER_CONSUMER_SECRET=your_twitter_consumer_secret\n",
      "   TWITTER_ACCESS_TOKEN=your_twitter_access_token\n",
      "   TWITTER_ACCESS_TOKEN_SECRET=your_twitter_access_token_secret\n",
      "   ```\n",
      "2. If you're using a basketball statistics API, add the necessary credentials to the `.env` file as well.\n",
      "\n",
      "### Usage\n",
      "1. Run the main script:\n",
      "   ```\n",
      "   python main.py\n",
      "   ```\n",
      "   This will retrieve the basketball statistics, process the data, and post the generated tweets to your Twitter account.\n",
      "\n",
      "2. (Optional) Set up a cron job or a scheduled task to run the script periodically, ensuring that new tweets are posted automatically.\n",
      "\n",
      "## Architecture\n",
      "The Basketball Tweet Generator follows a modular and extensible architecture, which consists of the following key components:\n",
      "\n",
      "1. **Data Retriever**: Responsible for fetching basketball statistics from the configured data source(s). This component abstracts the details of the API integration, allowing the rest of the application to work with a consistent data format.\n",
      "\n",
      "2. **Data Processor**: Processes the retrieved data to extract meaningful insights and trends. This component includes sub-modules for data cleaning, normalization, and analysis, allowing for easy customization and extension.\n",
      "\n",
      "3. **Tweet Generator**: Generates tweet content based on the processed data and a set of customizable tweet templates. The templates can be easily modified to adjust the tone, length, and format of the generated tweets.\n",
      "\n",
      "4. **Twitter Poster**: Handles the posting of the generated tweets to the configured Twitter account. This component manages the authentication process and provides error handling for any issues that may arise during the posting process.\n",
      "\n",
      "5. **Configuration Manager**: Manages the application's configuration, including API credentials, data source settings, and other parameters. This allows the application to be easily deployed in different environments without the need to modify the codebase.\n",
      "\n",
      "6. **Error Handler**: Provides robust error handling and logging mechanisms to ensure the application's reliability. This component logs errors, warnings, and informational messages to facilitate troubleshooting and monitoring.\n",
      "\n",
      "This modular design allows for\n"
     ]
    }
   ],
   "source": [
    "final_state = graph.invoke(initial_state)\n",
    "print_critic_sol(get_last_solution(final_state))"
   ]
  }
 ],
 "metadata": {
  "kernelspec": {
   "display_name": "Python 3 (ipykernel)",
   "language": "python",
   "name": "python3"
  },
  "language_info": {
   "codemirror_mode": {
    "name": "ipython",
    "version": 3
   },
   "file_extension": ".py",
   "mimetype": "text/x-python",
   "name": "python",
   "nbconvert_exporter": "python",
   "pygments_lexer": "ipython3",
   "version": "3.10.12"
  }
 },
 "nbformat": 4,
 "nbformat_minor": 5
}
